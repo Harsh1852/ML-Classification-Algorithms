{
 "cells": [
  {
   "cell_type": "markdown",
   "id": "afd961d3-bca6-43fa-bd94-14aae33f950c",
   "metadata": {},
   "source": [
    "# Logistic Regression"
   ]
  },
  {
   "cell_type": "markdown",
   "id": "e57b61b8-ea24-4e6a-a310-8764d9e91675",
   "metadata": {},
   "source": [
    "Logistic regression is a statistical method for predicting binary classes. The outcome or target variable is binary in nature and calculates the probability that an observed sample belongs to one of the two classes.\n",
    "\n",
    "Unlike linear regression that outputs a continuous value, logistic regression outputs probabilities. If the probability is greater than or equal to threshold (usually 0.5), the event is predicted to be from first class, otherwise from the second class.\n",
    "\n",
    "Logistic regression uses the sigmoid function to map predictions to probabilities, which outputs a value between 0 and 1, which is then interpreted as a probability. The function is defined as:\n",
    "\n",
    "              1\n",
    "    σ(z) = ---------\n",
    "            1 + e^(-z)\n",
    "\n",
    "where, z is the input to the function, often a linear combination of input features and weights (z = w0 + w1x1 + w2x2 + ... + wnxn)\n",
    "\n",
    "When z is a large positive number, e^(−z) approaches zero, and computing e^(z) can lead to an overflow error because the result can exceeds the range that can be represented in floating-point numbers.\n",
    "\n",
    "We can modify the sigmoid function to check for large values of z and directly set the output to nearly 0 or 1, depending on the sign of z, to avoid computing the exponential of extreme values. Thus tackling the issue of overflow. \n",
    "\n",
    "Model Training (Estimation of Parameters), The parameters (weights) of the logistic regression model are estimated such that they maximize the likelihood of the observed data. This process, known as Maximum Likelihood Estimation (MLE), adjusts the weights to predict probabilities as close as possible to the actual class (0 or 1).\n",
    "\n",
    "Cost Function (Log Loss): Logistic regression uses a cost function called log loss to measure the error between the predicted probabilities and the actual class labels. The cost function for logistic regression is given by:\n",
    "\n",
    "               1  m \n",
    "    J(w) =  - --- ∑   [yi*log(pi) + (1 - yi)*log(1-pi)] \n",
    "               m  i=1\n",
    "\n",
    "where, m is the number of observations, yi is the actual class label, and pi is the predicted probability of the observatioin belongng to the first class.\n",
    "\n",
    "If and when we pass a value of 0 to the logarithm function in the cost computation we may encounter an error of division by zero, in the context of logistic regression, this happens if the prediction pi is exactly 0 or 1, which makes log(𝑝) or log(1-𝑝) undefined.\n",
    "\n",
    "This can be avoided by adding a small constant (like 1e−8) to the input of the logarithm to avoid taking the log of zero.\n",
    "\n",
    "The weights are optimized using techniques like Gradient Descent. This iterative algorithm repeatedly adjusts the weights in order to minimize the cost function. Each iteration updates the weights in the opposite direction of the gradient of the cost function with respect to the weights.\n",
    "\n",
    "After training, the logistic regression model uses the learned weights to make predictions on new data. Predictions involve calculating the probability that a given input belongs to the first class. If the probability is greater than the threshold, the model predicts the label for the first class; otherwise, it predicts the label for the second class."
   ]
  },
  {
   "cell_type": "code",
   "execution_count": 3,
   "id": "5807f234-1991-4190-9937-8e37a65fa325",
   "metadata": {},
   "outputs": [],
   "source": [
    "# Importing the libraries\n",
    "import pandas as pd\n",
    "import numpy as np\n",
    "\n",
    "import matplotlib.pyplot as plt\n",
    "\n",
    "from sklearn.model_selection import train_test_split\n",
    "from sklearn.metrics import accuracy_score\n",
    "\n",
    "# !pip install ucimlrepo\n",
    "from ucimlrepo import fetch_ucirepo "
   ]
  },
  {
   "cell_type": "code",
   "execution_count": 4,
   "id": "d52e32c6-5ca9-4287-83e3-4efa53a2d27f",
   "metadata": {},
   "outputs": [],
   "source": [
    "class LogisticRegression:\n",
    "    def __init__(self, learning_rate=0.01, iterations=1000):\n",
    "        self.learning_rate = learning_rate\n",
    "        self.iterations = iterations\n",
    "        self.weights = None\n",
    "        self.cost_history = []  # Initialize cost history to track cost during training\n",
    "    \n",
    "    # Sigmoid function maps any real value into the interval [0, 1], which can be interpreted as a probability.\n",
    "    # i.e. used to map predictions to probabilities.\n",
    "    def sigmoid(self, z):\n",
    "        # By clipping the input to the sigmoid function between -500 and 500, we prevent Python's exp function from trying to compute values \n",
    "        # that are too large to handle, which prevents overflow errors.\n",
    "        # i.e. Stabilizing the sigmoid function to prevent overflow\n",
    "        z = np.clip(z, -500, 500)\n",
    "        return 1 / (1 + np.exp(-z))\n",
    "        \n",
    "    # We are using the log-likelihood (which we are computing in this function) cost function in logistic regression, which measures the performance of our classification model \n",
    "    # i.e. how good our model's predictions are compared to the actual classifications.\n",
    "    def compute_cost(self, X, y):\n",
    "        m = len(y)\n",
    "        predictions = self.sigmoid(np.dot(X, self.weights))\n",
    "        # Adding a small constant to predictions inside the log\n",
    "        # Adding a tiny positive number (epsilon) to the inputs of the log function prevents it from ever receiving a 0, \n",
    "        # which may cause the divide-by-zero error.\n",
    "        epsilon = 1e-8\n",
    "        error = (-y * np.log(predictions + epsilon)) - ((1 - y) * np.log(1 - predictions + epsilon))\n",
    "        cost = np.mean(error)\n",
    "        return cost\n",
    "\n",
    "    # The fit method initializes the weights and performs gradient descent to learn the model's weights based on the training data.\n",
    "    # Gradient Descent is the optimization algorithm used to minimize the cost function by updating the weights.\n",
    "    def fit(self, X, y):\n",
    "        m = len(y)\n",
    "        self.weights = np.zeros(X.shape[1])  # Initialize weights with zero values\n",
    "\n",
    "        for i in range(self.iterations):\n",
    "            predictions = self.sigmoid(np.dot(X, self.weights))\n",
    "            # Update weights with gradient\n",
    "            gradient = np.dot(X.T, (predictions - y)) / m\n",
    "            self.weights -= self.learning_rate * gradient\n",
    "            # Save the cost every 100 iterations            \n",
    "            if i % 100 == 0:\n",
    "                cost = self.compute_cost(X, y)\n",
    "                self.cost_history.append(cost)\n",
    "    \n",
    "    # The predict function converts the logistic model's probability outputs to class labels (0 or 1) based on a threshold, typically 0.5.\n",
    "    def predict(self, X):\n",
    "        probabilities = self.sigmoid(np.dot(X, self.weights))\n",
    "        return np.array([1 if x >= 0.5 else 0 for x in probabilities])"
   ]
  },
  {
   "cell_type": "markdown",
   "id": "d35d3955-e809-4f43-a839-f78a5d7eceba",
   "metadata": {},
   "source": [
    "#### Loading the dataset either directly from the online repository (https://archive.ics.uci.edu/dataset/17/breast+cancer+wisconsin+diagnostic) or from the local storage."
   ]
  },
  {
   "cell_type": "code",
   "execution_count": 6,
   "id": "b736fc04-8c51-43d2-8d8c-6beaae704054",
   "metadata": {},
   "outputs": [],
   "source": [
    "# Fetching the data from the local storage \n",
    "breast_cancer_wisconsin_diagnostic = fetch_ucirepo(id=17) \n",
    "\n",
    "# data (as pandas dataframes) \n",
    "X = breast_cancer_wisconsin_diagnostic.data.features \n",
    "y = breast_cancer_wisconsin_diagnostic.data.targets\n",
    "\n",
    "# # Loading the data from the local storage\n",
    "# data = pd.read_csv('wdbcdata.csv')\n",
    "\n",
    "# # Drop the 'ID' column as it will be redundant. Also, ensure 'Diagnosis' is not dropped if it's the target variable\n",
    "# X = data.drop(['ID', 'Diagnosis'], axis=1)\n",
    "\n",
    "# # Extract the 'Diagnosis' column as the target variable\n",
    "# y = data['Diagnosis']"
   ]
  },
  {
   "cell_type": "code",
   "execution_count": 7,
   "id": "491b840b-92f2-4b80-a046-314c4f6e638a",
   "metadata": {},
   "outputs": [
    {
     "name": "stdout",
     "output_type": "stream",
     "text": [
      "(569, 30)\n",
      "(569, 1)\n"
     ]
    }
   ],
   "source": [
    "print(X.shape)\n",
    "print(y.shape)"
   ]
  },
  {
   "cell_type": "code",
   "execution_count": 8,
   "id": "f1c69888-b2fc-4a9b-909d-5b6a28d9f835",
   "metadata": {},
   "outputs": [
    {
     "data": {
      "text/plain": [
       "(569,)"
      ]
     },
     "execution_count": 8,
     "metadata": {},
     "output_type": "execute_result"
    }
   ],
   "source": [
    "# This step is not needed if loading the data for local storage\n",
    "# Converting the y or the target variable to a 1-D array\n",
    "y = y['Diagnosis']\n",
    "y.shape"
   ]
  },
  {
   "cell_type": "code",
   "execution_count": 9,
   "id": "451dabd9-11fb-4e58-98dd-7a586428f97f",
   "metadata": {},
   "outputs": [
    {
     "name": "stderr",
     "output_type": "stream",
     "text": [
      "C:\\Users\\Harsh Sharma\\AppData\\Local\\Temp\\ipykernel_10688\\1360196524.py:4: SettingWithCopyWarning: \n",
      "A value is trying to be set on a copy of a slice from a DataFrame\n",
      "\n",
      "See the caveats in the documentation: https://pandas.pydata.org/pandas-docs/stable/user_guide/indexing.html#returning-a-view-versus-a-copy\n",
      "  y[i] = 0\n",
      "C:\\Users\\Harsh Sharma\\AppData\\Local\\Temp\\ipykernel_10688\\1360196524.py:6: SettingWithCopyWarning: \n",
      "A value is trying to be set on a copy of a slice from a DataFrame\n",
      "\n",
      "See the caveats in the documentation: https://pandas.pydata.org/pandas-docs/stable/user_guide/indexing.html#returning-a-view-versus-a-copy\n",
      "  y[i] = 1\n"
     ]
    }
   ],
   "source": [
    "# Converting 'M' and 'B' present in the 'Diagnosis to 0 and 1 respectively\n",
    "for i in range(len(y)):\n",
    "    if y[i] == 'M':\n",
    "        y[i] = 0\n",
    "    else:\n",
    "        y[i] = 1"
   ]
  },
  {
   "cell_type": "code",
   "execution_count": 10,
   "id": "858033d6-bf40-4218-afd2-518b9fb3457c",
   "metadata": {},
   "outputs": [
    {
     "name": "stdout",
     "output_type": "stream",
     "text": [
      "<class 'pandas.core.series.Series'>\n",
      "RangeIndex: 569 entries, 0 to 568\n",
      "Series name: Diagnosis\n",
      "Non-Null Count  Dtype \n",
      "--------------  ----- \n",
      "569 non-null    object\n",
      "dtypes: object(1)\n",
      "memory usage: 4.6+ KB\n",
      "None\n",
      "<class 'pandas.core.frame.DataFrame'>\n",
      "RangeIndex: 569 entries, 0 to 568\n",
      "Data columns (total 30 columns):\n",
      " #   Column              Non-Null Count  Dtype  \n",
      "---  ------              --------------  -----  \n",
      " 0   radius1             569 non-null    float64\n",
      " 1   texture1            569 non-null    float64\n",
      " 2   perimeter1          569 non-null    float64\n",
      " 3   area1               569 non-null    float64\n",
      " 4   smoothness1         569 non-null    float64\n",
      " 5   compactness1        569 non-null    float64\n",
      " 6   concavity1          569 non-null    float64\n",
      " 7   concave_points1     569 non-null    float64\n",
      " 8   symmetry1           569 non-null    float64\n",
      " 9   fractal_dimension1  569 non-null    float64\n",
      " 10  radius2             569 non-null    float64\n",
      " 11  texture2            569 non-null    float64\n",
      " 12  perimeter2          569 non-null    float64\n",
      " 13  area2               569 non-null    float64\n",
      " 14  smoothness2         569 non-null    float64\n",
      " 15  compactness2        569 non-null    float64\n",
      " 16  concavity2          569 non-null    float64\n",
      " 17  concave_points2     569 non-null    float64\n",
      " 18  symmetry2           569 non-null    float64\n",
      " 19  fractal_dimension2  569 non-null    float64\n",
      " 20  radius3             569 non-null    float64\n",
      " 21  texture3            569 non-null    float64\n",
      " 22  perimeter3          569 non-null    float64\n",
      " 23  area3               569 non-null    float64\n",
      " 24  smoothness3         569 non-null    float64\n",
      " 25  compactness3        569 non-null    float64\n",
      " 26  concavity3          569 non-null    float64\n",
      " 27  concave_points3     569 non-null    float64\n",
      " 28  symmetry3           569 non-null    float64\n",
      " 29  fractal_dimension3  569 non-null    float64\n",
      "dtypes: float64(30)\n",
      "memory usage: 133.5 KB\n",
      "None\n"
     ]
    }
   ],
   "source": [
    "# Checkinng the datatypes for the features and target variable\n",
    "print(y.info())\n",
    "print(X.info())"
   ]
  },
  {
   "cell_type": "code",
   "execution_count": 11,
   "id": "06abb9ef-6a1e-4053-95c9-a92c1ee1f939",
   "metadata": {},
   "outputs": [
    {
     "name": "stdout",
     "output_type": "stream",
     "text": [
      "<class 'pandas.core.series.Series'>\n",
      "RangeIndex: 569 entries, 0 to 568\n",
      "Series name: Diagnosis\n",
      "Non-Null Count  Dtype  \n",
      "--------------  -----  \n",
      "569 non-null    float64\n",
      "dtypes: float64(1)\n",
      "memory usage: 4.6 KB\n",
      "None\n"
     ]
    }
   ],
   "source": [
    "# Covertinig y from an object datatye to a float datatype for our model\n",
    "y = y.astype(float)\n",
    "\n",
    "# Confirming the type\n",
    "print(y.info())"
   ]
  },
  {
   "cell_type": "code",
   "execution_count": 12,
   "id": "a5d52c7e-da8b-4578-a3f8-105dc70c32e9",
   "metadata": {},
   "outputs": [],
   "source": [
    "# Spliting the data into training and testing sets\n",
    "X_train, X_test, y_train, y_test = train_test_split(X, y, test_size=0.8, random_state=42)"
   ]
  },
  {
   "cell_type": "code",
   "execution_count": 13,
   "id": "d4eed37c-5273-4640-9b7c-b7c2b14673d2",
   "metadata": {},
   "outputs": [],
   "source": [
    "# Creating an instance of the classification model LogisticRegression\n",
    "model = LogisticRegression(learning_rate=0.1, iterations=500)\n",
    "\n",
    "# Fitting the model to the data\n",
    "model.fit(X_train, y_train)\n",
    "\n",
    "# Making predictions\n",
    "predictions = model.predict(X_test)"
   ]
  },
  {
   "cell_type": "code",
   "execution_count": 14,
   "id": "2281cba9-d654-4cf9-8564-0573430cb398",
   "metadata": {},
   "outputs": [
    {
     "name": "stdout",
     "output_type": "stream",
     "text": [
      "Accuracy: 0.93\n"
     ]
    }
   ],
   "source": [
    "# Evaluating the model\n",
    "accuracy = accuracy_score(y_test, predictions)\n",
    "print(f'Accuracy: {accuracy:.2f}')"
   ]
  },
  {
   "cell_type": "code",
   "execution_count": 15,
   "id": "8970c0d5-06b9-4659-b965-e2a39179de6a",
   "metadata": {},
   "outputs": [
    {
     "data": {
      "image/png": "[encoded data removed]",
      "text/plain": [
       "<Figure size 640x480 with 1 Axes>"
      ]
     },
     "metadata": {},
     "output_type": "display_data"
    }
   ],
   "source": [
    "# Plotting the cost history\n",
    "plt.plot(model.cost_history)\n",
    "plt.title('Cost Reduction over Iterations')\n",
    "plt.xlabel('Iteration (x100)')\n",
    "plt.ylabel('Cost')\n",
    "plt.show()"
   ]
  }
 ],
 "metadata": {
  "kernelspec": {
   "display_name": "Python 3 (ipykernel)",
   "language": "python",
   "name": "python3"
  },
  "language_info": {
   "codemirror_mode": {
    "name": "ipython",
    "version": 3
   },
   "file_extension": ".py",
   "mimetype": "text/x-python",
   "name": "python",
   "nbconvert_exporter": "python",
   "pygments_lexer": "ipython3",
   "version": "3.12.7"
  }
 },
 "nbformat": 4,
 "nbformat_minor": 5
}
