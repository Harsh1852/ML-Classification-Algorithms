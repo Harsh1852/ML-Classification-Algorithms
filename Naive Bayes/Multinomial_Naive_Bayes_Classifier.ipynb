{
 "cells": [
  {
   "cell_type": "code",
   "execution_count": 1,
   "id": "8dd1fa1e-633b-475f-889e-2934f9debdc2",
   "metadata": {},
   "outputs": [],
   "source": [
    "# importing all the required libraries\n",
    "\n",
    "import pandas as pd\n",
    "import numpy as np\n",
    "import re\n",
    "from collections import defaultdict # explained why was imported when used\n",
    "from sklearn.model_selection import train_test_split\n",
    "from sklearn.metrics import precision_recall_fscore_support"
   ]
  },
  {
   "cell_type": "code",
   "execution_count": 2,
   "id": "5e7125e0-5536-44a9-a8ec-c22ac2f14fc0",
   "metadata": {},
   "outputs": [],
   "source": [
    "# Loading the two datasets and adding the column stating whether the news instance is true or false\n",
    "\n",
    "df_real = pd.read_csv('True.csv')\n",
    "df_real['RealNews?'] = True\n",
    "df_fake = pd.read_csv('Fake.csv')\n",
    "df_fake['RealNews?'] = False"
   ]
  },
  {
   "cell_type": "code",
   "execution_count": 3,
   "id": "f40ce547-fa5d-47d7-9d95-7c57833ff87e",
   "metadata": {},
   "outputs": [],
   "source": [
    "# Using pd.concat instead of df.append, as newer pandas version do not support .append for dataframes\n",
    "\n",
    "df = pd.concat([df_real, df_fake], ignore_index=True)"
   ]
  },
  {
   "cell_type": "code",
   "execution_count": 4,
   "id": "ff976914-814b-4e05-8e24-f34d2e1ea74a",
   "metadata": {},
   "outputs": [
    {
     "data": {
      "text/plain": [
       "44898"
      ]
     },
     "execution_count": 4,
     "metadata": {},
     "output_type": "execute_result"
    }
   ],
   "source": [
    "# Verifying the length of the dataframe (44,898 rows)\n",
    "\n",
    "len(df)"
   ]
  },
  {
   "cell_type": "code",
   "execution_count": 5,
   "id": "cd213f24-f0c6-4314-b318-e65036e91875",
   "metadata": {},
   "outputs": [
    {
     "data": {
      "text/html": [
       "<div>\n",
       "<style scoped>\n",
       "    .dataframe tbody tr th:only-of-type {\n",
       "        vertical-align: middle;\n",
       "    }\n",
       "\n",
       "    .dataframe tbody tr th {\n",
       "        vertical-align: top;\n",
       "    }\n",
       "\n",
       "    .dataframe thead th {\n",
       "        text-align: right;\n",
       "    }\n",
       "</style>\n",
       "<table border=\"1\" class=\"dataframe\">\n",
       "  <thead>\n",
       "    <tr style=\"text-align: right;\">\n",
       "      <th></th>\n",
       "      <th>title</th>\n",
       "      <th>text</th>\n",
       "      <th>subject</th>\n",
       "      <th>date</th>\n",
       "      <th>RealNews?</th>\n",
       "    </tr>\n",
       "  </thead>\n",
       "  <tbody>\n",
       "    <tr>\n",
       "      <th>0</th>\n",
       "      <td>As U.S. budget fight looms, Republicans flip t...</td>\n",
       "      <td>WASHINGTON (Reuters) - The head of a conservat...</td>\n",
       "      <td>politicsNews</td>\n",
       "      <td>December 31, 2017</td>\n",
       "      <td>True</td>\n",
       "    </tr>\n",
       "    <tr>\n",
       "      <th>1</th>\n",
       "      <td>U.S. military to accept transgender recruits o...</td>\n",
       "      <td>WASHINGTON (Reuters) - Transgender people will...</td>\n",
       "      <td>politicsNews</td>\n",
       "      <td>December 29, 2017</td>\n",
       "      <td>True</td>\n",
       "    </tr>\n",
       "    <tr>\n",
       "      <th>2</th>\n",
       "      <td>Senior U.S. Republican senator: 'Let Mr. Muell...</td>\n",
       "      <td>WASHINGTON (Reuters) - The special counsel inv...</td>\n",
       "      <td>politicsNews</td>\n",
       "      <td>December 31, 2017</td>\n",
       "      <td>True</td>\n",
       "    </tr>\n",
       "    <tr>\n",
       "      <th>3</th>\n",
       "      <td>FBI Russia probe helped by Australian diplomat...</td>\n",
       "      <td>WASHINGTON (Reuters) - Trump campaign adviser ...</td>\n",
       "      <td>politicsNews</td>\n",
       "      <td>December 30, 2017</td>\n",
       "      <td>True</td>\n",
       "    </tr>\n",
       "    <tr>\n",
       "      <th>4</th>\n",
       "      <td>Trump wants Postal Service to charge 'much mor...</td>\n",
       "      <td>SEATTLE/WASHINGTON (Reuters) - President Donal...</td>\n",
       "      <td>politicsNews</td>\n",
       "      <td>December 29, 2017</td>\n",
       "      <td>True</td>\n",
       "    </tr>\n",
       "  </tbody>\n",
       "</table>\n",
       "</div>"
      ],
      "text/plain": [
       "                                               title  \\\n",
       "0  As U.S. budget fight looms, Republicans flip t...   \n",
       "1  U.S. military to accept transgender recruits o...   \n",
       "2  Senior U.S. Republican senator: 'Let Mr. Muell...   \n",
       "3  FBI Russia probe helped by Australian diplomat...   \n",
       "4  Trump wants Postal Service to charge 'much mor...   \n",
       "\n",
       "                                                text       subject  \\\n",
       "0  WASHINGTON (Reuters) - The head of a conservat...  politicsNews   \n",
       "1  WASHINGTON (Reuters) - Transgender people will...  politicsNews   \n",
       "2  WASHINGTON (Reuters) - The special counsel inv...  politicsNews   \n",
       "3  WASHINGTON (Reuters) - Trump campaign adviser ...  politicsNews   \n",
       "4  SEATTLE/WASHINGTON (Reuters) - President Donal...  politicsNews   \n",
       "\n",
       "                 date  RealNews?  \n",
       "0  December 31, 2017        True  \n",
       "1  December 29, 2017        True  \n",
       "2  December 31, 2017        True  \n",
       "3  December 30, 2017        True  \n",
       "4  December 29, 2017        True  "
      ]
     },
     "execution_count": 5,
     "metadata": {},
     "output_type": "execute_result"
    }
   ],
   "source": [
    "# Verifying that df is a dataframe with title, text, subject, date, and RealNews? as its columns | (RealNews? -> target variable)\n",
    "\n",
    "df.head()"
   ]
  },
  {
   "cell_type": "code",
   "execution_count": 6,
   "id": "c45e0944-83b1-4c6f-9b84-0962401abf8e",
   "metadata": {},
   "outputs": [],
   "source": [
    "# Creating a new column document for the entire df, where df['document']=(title + text)\n",
    "\n",
    "df['document'] = df[['title', 'text']].agg(' '.join, axis=1)"
   ]
  },
  {
   "cell_type": "code",
   "execution_count": 7,
   "id": "4f14e2a0-238c-4ffc-a66b-36c46093700a",
   "metadata": {},
   "outputs": [],
   "source": [
    "# Converting the df['document'] into lower-case for simplicity\n",
    "\n",
    "df['document'] = df['document'].apply(lambda x: x.lower())"
   ]
  },
  {
   "cell_type": "code",
   "execution_count": 8,
   "id": "9d486873-d97d-4f43-9910-c8417788f213",
   "metadata": {},
   "outputs": [
    {
     "data": {
      "text/html": [
       "<div>\n",
       "<style scoped>\n",
       "    .dataframe tbody tr th:only-of-type {\n",
       "        vertical-align: middle;\n",
       "    }\n",
       "\n",
       "    .dataframe tbody tr th {\n",
       "        vertical-align: top;\n",
       "    }\n",
       "\n",
       "    .dataframe thead th {\n",
       "        text-align: right;\n",
       "    }\n",
       "</style>\n",
       "<table border=\"1\" class=\"dataframe\">\n",
       "  <thead>\n",
       "    <tr style=\"text-align: right;\">\n",
       "      <th></th>\n",
       "      <th>title</th>\n",
       "      <th>text</th>\n",
       "      <th>subject</th>\n",
       "      <th>date</th>\n",
       "      <th>RealNews?</th>\n",
       "      <th>document</th>\n",
       "    </tr>\n",
       "  </thead>\n",
       "  <tbody>\n",
       "    <tr>\n",
       "      <th>0</th>\n",
       "      <td>As U.S. budget fight looms, Republicans flip t...</td>\n",
       "      <td>WASHINGTON (Reuters) - The head of a conservat...</td>\n",
       "      <td>politicsNews</td>\n",
       "      <td>December 31, 2017</td>\n",
       "      <td>True</td>\n",
       "      <td>as u.s. budget fight looms, republicans flip t...</td>\n",
       "    </tr>\n",
       "    <tr>\n",
       "      <th>1</th>\n",
       "      <td>U.S. military to accept transgender recruits o...</td>\n",
       "      <td>WASHINGTON (Reuters) - Transgender people will...</td>\n",
       "      <td>politicsNews</td>\n",
       "      <td>December 29, 2017</td>\n",
       "      <td>True</td>\n",
       "      <td>u.s. military to accept transgender recruits o...</td>\n",
       "    </tr>\n",
       "    <tr>\n",
       "      <th>2</th>\n",
       "      <td>Senior U.S. Republican senator: 'Let Mr. Muell...</td>\n",
       "      <td>WASHINGTON (Reuters) - The special counsel inv...</td>\n",
       "      <td>politicsNews</td>\n",
       "      <td>December 31, 2017</td>\n",
       "      <td>True</td>\n",
       "      <td>senior u.s. republican senator: 'let mr. muell...</td>\n",
       "    </tr>\n",
       "    <tr>\n",
       "      <th>3</th>\n",
       "      <td>FBI Russia probe helped by Australian diplomat...</td>\n",
       "      <td>WASHINGTON (Reuters) - Trump campaign adviser ...</td>\n",
       "      <td>politicsNews</td>\n",
       "      <td>December 30, 2017</td>\n",
       "      <td>True</td>\n",
       "      <td>fbi russia probe helped by australian diplomat...</td>\n",
       "    </tr>\n",
       "    <tr>\n",
       "      <th>4</th>\n",
       "      <td>Trump wants Postal Service to charge 'much mor...</td>\n",
       "      <td>SEATTLE/WASHINGTON (Reuters) - President Donal...</td>\n",
       "      <td>politicsNews</td>\n",
       "      <td>December 29, 2017</td>\n",
       "      <td>True</td>\n",
       "      <td>trump wants postal service to charge 'much mor...</td>\n",
       "    </tr>\n",
       "  </tbody>\n",
       "</table>\n",
       "</div>"
      ],
      "text/plain": [
       "                                               title  \\\n",
       "0  As U.S. budget fight looms, Republicans flip t...   \n",
       "1  U.S. military to accept transgender recruits o...   \n",
       "2  Senior U.S. Republican senator: 'Let Mr. Muell...   \n",
       "3  FBI Russia probe helped by Australian diplomat...   \n",
       "4  Trump wants Postal Service to charge 'much mor...   \n",
       "\n",
       "                                                text       subject  \\\n",
       "0  WASHINGTON (Reuters) - The head of a conservat...  politicsNews   \n",
       "1  WASHINGTON (Reuters) - Transgender people will...  politicsNews   \n",
       "2  WASHINGTON (Reuters) - The special counsel inv...  politicsNews   \n",
       "3  WASHINGTON (Reuters) - Trump campaign adviser ...  politicsNews   \n",
       "4  SEATTLE/WASHINGTON (Reuters) - President Donal...  politicsNews   \n",
       "\n",
       "                 date  RealNews?  \\\n",
       "0  December 31, 2017        True   \n",
       "1  December 29, 2017        True   \n",
       "2  December 31, 2017        True   \n",
       "3  December 30, 2017        True   \n",
       "4  December 29, 2017        True   \n",
       "\n",
       "                                            document  \n",
       "0  as u.s. budget fight looms, republicans flip t...  \n",
       "1  u.s. military to accept transgender recruits o...  \n",
       "2  senior u.s. republican senator: 'let mr. muell...  \n",
       "3  fbi russia probe helped by australian diplomat...  \n",
       "4  trump wants postal service to charge 'much mor...  "
      ]
     },
     "execution_count": 8,
     "metadata": {},
     "output_type": "execute_result"
    }
   ],
   "source": [
    "df.head()"
   ]
  },
  {
   "cell_type": "code",
   "execution_count": 9,
   "id": "c03b7062-b428-4009-be7c-4b5e08086f96",
   "metadata": {},
   "outputs": [],
   "source": [
    "# Split df into a training set and test set with 20% for testing and with shuffle=True we ensure randomness while splitting the data\n",
    "\n",
    "df_train, df_test = train_test_split(df, test_size=0.2, shuffle=True)"
   ]
  },
  {
   "cell_type": "markdown",
   "id": "40ad5c3a-3da6-4889-a0f6-b0b8300e3941",
   "metadata": {},
   "source": [
    "## Naive Baiyes Classification Process\n",
    "This table shows the words and occurrence of that word in a particular class\n",
    "\n",
    "    Term   |  T  |  F\n",
    "    -------------------\n",
    "    Word-1 | 36  | 23  \n",
    "    Word-2 | 12  | 31  \n",
    "    Word-3 | 43  | 11  \n",
    "    -------------------\n",
    "    Total  | 200 | 87\n",
    "\n",
    "Now, if we want to find the class for a phrase that contains **Word-1** and **Word-3**, we will find the likelihood of that phrase belonging to a particular class and then classify it to the class with the maximum likelihood, which can be found by using the **Baye's Theorem** given as\n",
    "\n",
    "    P(y|X) = P(X|y) * P(y)\n",
    "            --------------\n",
    "                P(X)\n",
    "\n",
    "    if,\n",
    "    X = x1, x2, x3, ..., xn\n",
    "    then,\n",
    "    P(y|x1, x2, x3, ..., xn) =  P(x1|y) * P(x2|y) * P(x3|y) * ... * P(xn|y) * P(y) * P(y)* P(y)* P(y)\n",
    "                               -----------------------------------------------------------------------\n",
    "                                             P(x1) * P(x2) * P(x3) * ... * P(xn)\n",
    "    \n",
    "    where,\n",
    "    P(X|y) = P(x1|y) * P(x2|y) * P(x3|y) * ... * P(xn|y), and\n",
    "    P(X) = P(x1) * P(x2) * P(x3) * ... * P(xn)\n",
    "\n",
    "Coming back to our classification, we are considering the words (features i.e. X) to be independent of each other, and therefore we can calculate the likelihood by:\n",
    "\n",
    "    P(y|X) = P(X|y) * P(y)\n",
    "\n",
    "                                (!Word-2)      (Word-1)        (Word-3)            (Total T)   \n",
    "    T-Likelihood (P(T|X))   =   ---------  x  -----------  x  -----------  x  -------------------\n",
    "                                (Total T)      (Total T)       (Total T)      (Total T + Total F)\n",
    "\n",
    "\n",
    "                                (!Word-2)      (Word-1)        (Word-3)            (Total F)   \n",
    "    F-Likelihood (P(F|X))   =   ---------  x  -----------  x  -----------  x  -------------------\n",
    "                                (Total F)      (Total F)       (Total F)      (Total T + Total F)\n",
    "\n",
    "We are trying to implement the **Multinomial Naive Bayes** since this approach ensures that all relevant features, both present and absent, contribute to the final probability calculation for each class, and therefore we will also account for the absence of any word(s)\n"
   ]
  },
  {
   "cell_type": "code",
   "execution_count": 11,
   "id": "0b701edc-1623-42b1-85b9-dd1bb48e5ef9",
   "metadata": {},
   "outputs": [],
   "source": [
    "# Tokenizing words\n",
    "\n",
    "# defaultdict from the collections library creates dictionaries with default values, making it easier to count words with Laplace smoothing.\n",
    "# from collections import defaultdict\n",
    "\n",
    "# Tokenize function\n",
    "# This function tokenize splits a document into individual words based on non-word characters (e.g., spaces, punctuation) using a regular expression.\n",
    "\n",
    "def tokenize(document):\n",
    "    return re.split(r\"\\W+\", document)\n"
   ]
  },
  {
   "cell_type": "code",
   "execution_count": 12,
   "id": "5e63df72-13f1-46c8-9492-1313fe521dc7",
   "metadata": {},
   "outputs": [],
   "source": [
    "# Count word frequencies for each class with,\n",
    "# Each word’s count is initialized to 1 (Laplace smoothing), which prevents zero probability for unseen words during classification.\n",
    "\n",
    "# realWordCount dictionaries to count word occurrences in real news documents\n",
    "\n",
    "realWordCount = defaultdict(lambda: 1)  # Laplace smoothing with initial count of 1\n",
    "\n",
    "# fakeWordCount dictionaries to count word occurrences in fake news documents\n",
    "\n",
    "fakeWordCount = defaultdict(lambda: 1) # Laplace smoothing with initial count of 1\n",
    "\n",
    "# This loop iterates through each row in the training dataset.\n",
    "# It tokenizes the document column of each row.\n",
    "# For each word, if the document is RealNews? = True, it increments realWordCount[word]; otherwise, it increments fakeWordCount[word].\n",
    "\n",
    "for _, row in df_train.iterrows():\n",
    "    for word in tokenize(row['document']):\n",
    "        if row['RealNews?']:\n",
    "            realWordCount[word] += 1\n",
    "        else:\n",
    "            fakeWordCount[word] += 1\n"
   ]
  },
  {
   "cell_type": "code",
   "execution_count": 13,
   "id": "b6b1dbbf-5963-4482-9a0b-2c59036385b7",
   "metadata": {},
   "outputs": [],
   "source": [
    "# Calculate total word counts\n",
    "\n",
    "# totalRealWords store the total number of words in real news documents, by summing all word counts\n",
    "\n",
    "totalRealWords = sum(realWordCount.values())\n",
    "\n",
    "# totalFakeWords store the total number of words in fake news documents, by summing all word counts\n",
    "\n",
    "totalFakeWords = sum(fakeWordCount.values())\n"
   ]
  },
  {
   "cell_type": "code",
   "execution_count": 14,
   "id": "dfcabbb8-5c78-447d-919d-9a475960c47a",
   "metadata": {},
   "outputs": [],
   "source": [
    "# Probability functions\n",
    "\n",
    "# Calculate the probability of a given word in real news by dividing the word’s count by the total word count for real\n",
    "\n",
    "def prob_word_given_real(word):\n",
    "    return realWordCount[word] / totalRealWords\n",
    "\n",
    "# Calculate the probability of a given word in fake news by dividing the word count by the total word count for fake news.\n",
    "\n",
    "def prob_word_given_fake(word):\n",
    "    return fakeWordCount[word] / totalFakeWords\n"
   ]
  },
  {
   "cell_type": "code",
   "execution_count": 15,
   "id": "fe7633fc-d7ce-4cd0-86bf-8cec1e0176bc",
   "metadata": {},
   "outputs": [],
   "source": [
    "# Class priors i.e. P(y)\n",
    "\n",
    "# prob_real represents the prior probability for real news\n",
    "\n",
    "real_count = len(df_train[df_train['RealNews?']==True])\n",
    "prob_real = real_count / len(df_train)\n",
    "\n",
    "# prob_fake represents the prior probability for fake news\n",
    "\n",
    "fake_count = len(df_train[df_train['RealNews?']==False])\n",
    "prob_fake = fake_count / len(df_train)\n"
   ]
  },
  {
   "cell_type": "code",
   "execution_count": 16,
   "id": "ac2bdb00-ad31-4817-bea4-5853404f4748",
   "metadata": {},
   "outputs": [],
   "source": [
    "# Vocabulary: all unique words in both realWordCount and fakeWordcount\n",
    "\n",
    "vocab = set(realWordCount.keys()).union(set(fakeWordCount.keys()))"
   ]
  },
  {
   "cell_type": "code",
   "execution_count": 17,
   "id": "e761c1e7-af8c-4438-8796-0a8f61fa445c",
   "metadata": {},
   "outputs": [],
   "source": [
    "# Multinomial Naive Bayes Classifier Function\n",
    "\n",
    "# log_prob_real and log_prob_fake are initialized as the logarithm of the prior probabilities for real and fake news.\n",
    "# Using logarithms helps avoid underflow issues when multiplying small probabilities and won't really affect the actual result of the classifier\n",
    "# Also [log(a*b) = log(a)+log(b)]\n",
    "\n",
    "def classify(document):\n",
    "    # Log of class priors\n",
    "    log_prob_real = np.log(prob_real)\n",
    "    log_prob_fake = np.log(prob_fake)\n",
    "    \n",
    "    # Tokenize the document\n",
    "    \n",
    "    document_words = set(tokenize(document))\n",
    "    \n",
    "    # Calculating log of the probabilities for each word in the vocabulary\n",
    "    # If the word is in the document then we compute P(word | class), otherwise we compute P(!word | class) = 1 - P(word | class)\n",
    "    \n",
    "    for word in vocab:\n",
    "        if word in document_words:\n",
    "            log_prob_real += np.log(prob_word_given_real(word))\n",
    "            log_prob_fake += np.log(prob_word_given_fake(word))\n",
    "        \n",
    "        else:\n",
    "            log_prob_real += np.log(1 - prob_word_given_real(word))\n",
    "            log_prob_fake += np.log(1 - prob_word_given_fake(word))\n",
    "    \n",
    "    # True if real news (log_prob_real > log_prob_fake), else False for fake news\n",
    "    return log_prob_real > log_prob_fake\n"
   ]
  },
  {
   "cell_type": "code",
   "execution_count": 18,
   "id": "82ade3f7-7c73-4d67-8ea1-66cfccc0320d",
   "metadata": {},
   "outputs": [
    {
     "data": {
      "text/plain": [
       "((35918, 6), (8980, 6))"
      ]
     },
     "execution_count": 18,
     "metadata": {},
     "output_type": "execute_result"
    }
   ],
   "source": [
    "df_train.shape, df_test.shape"
   ]
  },
  {
   "cell_type": "code",
   "execution_count": 19,
   "id": "a412e923-4a8d-4bd9-8b90-bdd1e4571edf",
   "metadata": {},
   "outputs": [],
   "source": [
    "# Predictions\n",
    "\n",
    "# y_true stores the actual labels (real or fake) from the testing dataset.\n",
    "\n",
    "y_true = df_test['RealNews?']\n",
    "\n",
    "# y_pred stores the predicted labels generated by applying the classify function to each document in the testing dataset.\n",
    "\n",
    "y_pred = df_test['document'].apply(classify)"
   ]
  },
  {
   "cell_type": "code",
   "execution_count": 20,
   "id": "150f6e0e-0fbe-4bb3-b638-1471a9b85358",
   "metadata": {},
   "outputs": [
    {
     "name": "stdout",
     "output_type": "stream",
     "text": [
      "Precision:0.967483506126296, \n",
      "Recall: 0.944994246260069, \n",
      "F1 Score: 0.9561066480381883\n"
     ]
    }
   ],
   "source": [
    "# Report precision, recall, and F1 score for the classification performance.\n",
    "# We can also set average='binary' as an attribute that will make the function to focus the metrics on the binary classification problem \n",
    "\n",
    "precision, recall, f1, _ = precision_recall_fscore_support(y_true, y_pred, average='binary')\n",
    "print(f\"Precision:{precision}, \\nRecall: {recall}, \\nF1 Score: {f1}\")"
   ]
  },
  {
   "cell_type": "code",
   "execution_count": null,
   "id": "6b51a1a1-ff2a-4edd-b3d9-6892092fae2d",
   "metadata": {},
   "outputs": [],
   "source": []
  }
 ],
 "metadata": {
  "kernelspec": {
   "display_name": "Python 3 (ipykernel)",
   "language": "python",
   "name": "python3"
  },
  "language_info": {
   "codemirror_mode": {
    "name": "ipython",
    "version": 3
   },
   "file_extension": ".py",
   "mimetype": "text/x-python",
   "name": "python",
   "nbconvert_exporter": "python",
   "pygments_lexer": "ipython3",
   "version": "3.12.7"
  }
 },
 "nbformat": 4,
 "nbformat_minor": 5
}
