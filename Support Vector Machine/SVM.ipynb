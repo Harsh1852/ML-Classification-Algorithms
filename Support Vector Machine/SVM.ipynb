{
 "cells": [
  {
   "cell_type": "markdown",
   "id": "02f8981d-982d-42c3-9377-a5d239835910",
   "metadata": {},
   "source": [
    "# Support Vector Machine (SVM) Classification"
   ]
  },
  {
   "cell_type": "markdown",
   "id": "f6d7d421-7611-4b7b-9557-852e9ae1a503",
   "metadata": {},
   "source": [
    "Support Vector Machine (SVM) is a powerful and versatile supervised machine learning algorithm used for both classification and regression tasks. It's particularly well-suited for complex but small or medium-sized datasets. \n",
    "\n",
    "SVMs are particularly effective in high-dimensional spaces and are relatively memory efficient. They work well on a variety of classification problems, including image recognition, text categorization, bioinformatics (such as disease classification based on patients' genes), and many other domains.\n",
    "\n",
    "### Concept of SVM\n",
    "\n",
    "1. **Maximizing the Margin**:\n",
    "   SVM aims to find a hyperplane (e.g., a line in two-dimensional space or a plane in three-dimensional space) that best separates the different classes in the feature space. The optimal hyperplane has the maximum margin, i.e., the largest possible distance between it and the nearest data points from each class. These nearest points are called support vectors, which support/define the hyperplane.\n",
    "\n",
    "2. **Support Vectors**:\n",
    "   these are the data points belonging to the different classes and are closest to the hyperplane dividing the data. The position of the hyperplane is influenced only by these data points, not by the entire dataset. The decision boundary is entirely characterized by the support vectors, hence the name \"Support Vector Machine\".\n",
    "\n",
    "3. **Dealing with Linear and Non-linear Data**:\n",
    "   - Linear SVM: When the data is linearly separable (i.e., a straight line can separate the classes without error), SVM finds the straight line that maximizes the margin between the two classes.\n",
    "   - Non-linear SVM: When the data is not linearly separable, SVM uses a kernel trick to map the input features into a higher-dimensional space where a linear separation is possible. Common kernels include the polynomial kernel, radial basis function (RBF) or Gaussian kernel, and sigmoid kernel.\n",
    "\n",
    "### The Kernel Trick\n",
    "\n",
    "The kernel trick is a technique that allows SVM to operate in a high-dimensional space without explicitly computing the coordinates of the data in that space, but rather by computing the inner products between the images of all pairs of data in the feature space. This lets SVM efficiently perform a non-linear classification using what is essentially a linear method (dot products in the transformed feature space).\n",
    "\n",
    "### Mathematical Foundation\n",
    "\n",
    "Mathematically, SVM solves an optimization problem where the objective is to maximize the margin around the hyperplane. This involves finding a balance between maximizing the margin and minimizing the classification error. The optimization problem can be expressed as:\n",
    "\n",
    "- Minimize\n",
    "\n",
    "       1\n",
    "      --- ||w||^2  \n",
    "       2\n",
    "subject to \n",
    "    \n",
    "    yi(w.xi + b) >= 1 \n",
    "for all \"i\",\n",
    "\n",
    "where, \"w\" is the normal vector to the hyperplane, \"b\" is the bias term, \"xi\" are the feature vectors, \"yi\" are the labels (usually +1 or -1), and ||w||^2 represents the squared norm of \"w\".\n",
    "\n",
    "### Limitations of SVM\n",
    "\n",
    "- **Scalability**: SVMs can be inefficient to train on very large datasets because their training time can be cubic in the size of the dataset.\n",
    "- **Kernel Choice**: Choosing the appropriate kernel and tuning its parameters can be challenging and heavily influences the performance of the model.\n",
    "- **Performance**: SVMs do not directly provide probability estimates (these are calculated using an expensive five-fold cross-validation).\n",
    "\n",
    "Overall, SVMs are a strong starting point for classification problems when the dataset isn’t too large and when high accuracy is not the sole priority. They're particularly useful when the decision boundary is not initially obvious from the data."
   ]
  },
  {
   "cell_type": "markdown",
   "id": "dd0a7319-96af-4a14-bb8b-253eb9c43838",
   "metadata": {},
   "source": [
    "# Implementation"
   ]
  },
  {
   "cell_type": "markdown",
   "id": "13cd22dc-29c1-461d-9939-b0b681394ae2",
   "metadata": {},
   "source": [
    "This implementation strictly uses a linear kernel (implied by the direct dot product calculations), which means that it does not transform data into a higher-dimensional space. Non-linear separability would require modifications to include a kernel function capable of such transformations. And is simplified to focus on understanding the core mechanics of SVM without delving into more advanced optimizations like those found in libraries such as scikit-learn. We will focus on a simple 2D dataset for clarity."
   ]
  },
  {
   "cell_type": "code",
   "execution_count": 1,
   "id": "05dc4dfd-6684-48cb-be74-208a696c41b7",
   "metadata": {},
   "outputs": [],
   "source": [
    "# Importing the required libraries\n",
    "import numpy as np\n",
    "import matplotlib.pyplot as plt\n",
    "from sklearn.datasets import make_blobs\n",
    "from sklearn.model_selection import train_test_split"
   ]
  },
  {
   "cell_type": "code",
   "execution_count": 2,
   "id": "926c8de6-afb7-445a-8850-712f2f9f0700",
   "metadata": {},
   "outputs": [],
   "source": [
    "# This function visualizes the dataset along with the decision boundary and margins defined by the model.\n",
    "def plot_decision_boundary(X, y, w, b):\n",
    "    plt.scatter(X[:, 0], X[:, 1], c=y, cmap='bwr', alpha=0.7) # Plotting data points, colored by their class\n",
    "    ax = plt.gca() # Getting the current axes instance\n",
    "    xlim = ax.get_xlim()\n",
    "    ylim = ax.get_ylim()\n",
    "\n",
    "    # Creating a grid of values to evaluate the model\n",
    "    xx = np.linspace(xlim[0], xlim[1], 30)\n",
    "    yy = np.linspace(ylim[0], ylim[1], 30)\n",
    "    YY, XX = np.meshgrid(yy, xx)\n",
    "    xy = np.vstack([XX.ravel(), YY.ravel()]).T\n",
    "    Z = (np.dot(xy, w) + b).reshape(XX.shape)\n",
    "\n",
    "    # Plotting the decision boundary and margins\n",
    "    ax.contour(XX, YY, Z, colors='k', levels=[-1, 0, 1], alpha=0.5,\n",
    "               linestyles=['--', '-', '--'])\n",
    "    plt.show()"
   ]
  },
  {
   "cell_type": "code",
   "execution_count": 3,
   "id": "ffc7b1c0-781f-4ba8-b215-b29ed7e359b1",
   "metadata": {},
   "outputs": [],
   "source": [
    "# Simple SVM implementation using stochastic gradient descent\n",
    "class SimpleSVM:\n",
    "    def __init__(self, learning_rate=0.001, lambda_param=0.01, n_epochs=1000):\n",
    "        self.learning_rate = learning_rate # The step size for updating weights\n",
    "        self.lambda_param = lambda_param # Regularization strength\n",
    "        self.n_epochs = n_epochs # Number of times to iterate through the entire dataset\n",
    "        self.w = None # Weight vector\n",
    "        self.b = 0 # Bias term\n",
    "\n",
    "    def fit(self, X, y):\n",
    "        n_samples, n_features = X.shape\n",
    "        self.w = np.zeros(n_features) # Initializing weights to zero\n",
    "\n",
    "        # Converting labels to -1, 1\n",
    "        y_ = np.where(y <= 0, -1, 1)\n",
    "\n",
    "        # Training process\n",
    "        for _ in range(self.n_epochs):\n",
    "            for idx, x_i in enumerate(X):\n",
    "                condition = y_[idx] * (np.dot(x_i, self.w) + self.b) >= 1\n",
    "                if condition:\n",
    "                    # Updating the weights for correctly classified points\n",
    "                    self.w -= self.learning_rate * (2 * self.lambda_param * self.w)\n",
    "                else:\n",
    "                    # Updating the weights for misclassified points\n",
    "                    self.w -= self.learning_rate * (2 * self.lambda_param * self.w - np.dot(x_i, y_[idx]))\n",
    "                    self.b -= self.learning_rate * (-y_[idx])\n",
    "\n",
    "    def predict(self, X):\n",
    "        # Predicting labels for given data\n",
    "        return np.sign(np.dot(X, self.w) + self.b)"
   ]
  },
  {
   "cell_type": "code",
   "execution_count": 7,
   "id": "5069bf3b-b3e8-4d93-ab6d-8b7254a54b2c",
   "metadata": {},
   "outputs": [],
   "source": [
    "# Function to calculate accuracy of the model\n",
    "def calculate_accuracy(y_true, y_pred):\n",
    "    return np.mean(y_true == y_pred)"
   ]
  },
  {
   "cell_type": "code",
   "execution_count": 9,
   "id": "b5d256da-3244-4dd5-acf6-0392abbe374b",
   "metadata": {},
   "outputs": [],
   "source": [
    "# Generating a  simple linearly separable toy dataset with the help of the \"make_blobs\" from sklearn library.\n",
    "X, y = make_blobs(n_samples=50, centers=2, random_state=6)"
   ]
  },
  {
   "cell_type": "code",
   "execution_count": 11,
   "id": "3d243c8b-ccbd-4e11-9628-d6dadeebe2dd",
   "metadata": {},
   "outputs": [],
   "source": [
    "# Transform labels from 0,1 to -1,1\n",
    "y = np.where(y == 0, -1, 1)"
   ]
  },
  {
   "cell_type": "code",
   "execution_count": 13,
   "id": "26e47b7d-4f3f-44f4-89f9-1e6f6e4741f1",
   "metadata": {},
   "outputs": [],
   "source": [
    "# Splitting the data into training and test sets\n",
    "X_train, X_test, y_train, y_test = train_test_split(X, y, test_size=0.2, random_state=42)"
   ]
  },
  {
   "cell_type": "code",
   "execution_count": 15,
   "id": "14913e48-c9b1-4009-bf9f-a4583d1f4fa5",
   "metadata": {},
   "outputs": [],
   "source": [
    "# Training the SVM on the training data\n",
    "svm = SimpleSVM()\n",
    "svm.fit(X_train, y_train)"
   ]
  },
  {
   "cell_type": "code",
   "execution_count": 17,
   "id": "f7bcc2e6-94b7-4799-a816-786756195078",
   "metadata": {},
   "outputs": [],
   "source": [
    "# Performing predictions on the test set\n",
    "y_pred = svm.predict(X_test)"
   ]
  },
  {
   "cell_type": "code",
   "execution_count": 19,
   "id": "a7c74711-5d93-4b89-a8c3-5565b7a08c83",
   "metadata": {},
   "outputs": [
    {
     "name": "stdout",
     "output_type": "stream",
     "text": [
      "Accuracy: 100.00%\n"
     ]
    }
   ],
   "source": [
    "# Calculate and print accuracy\n",
    "accuracy = calculate_accuracy(y_test, y_pred)\n",
    "print(f'Accuracy: {accuracy * 100:.2f}%')"
   ]
  },
  {
   "cell_type": "code",
   "execution_count": 21,
   "id": "ae0d2ed2-40e2-4aa9-a353-a6587a7a681e",
   "metadata": {},
   "outputs": [
    {
     "data": {
      "image/png": "[encoded data removed]",
      "text/plain": [
       "<Figure size 640x480 with 1 Axes>"
      ]
     },
     "metadata": {},
     "output_type": "display_data"
    }
   ],
   "source": [
    "# Plotting the decision boundary on the training set\n",
    "plot_decision_boundary(X, y, svm.w, svm.b)"
   ]
  }
 ],
 "metadata": {
  "kernelspec": {
   "display_name": "Python 3 (ipykernel)",
   "language": "python",
   "name": "python3"
  },
  "language_info": {
   "codemirror_mode": {
    "name": "ipython",
    "version": 3
   },
   "file_extension": ".py",
   "mimetype": "text/x-python",
   "name": "python",
   "nbconvert_exporter": "python",
   "pygments_lexer": "ipython3",
   "version": "3.12.7"
  }
 },
 "nbformat": 4,
 "nbformat_minor": 5
}
